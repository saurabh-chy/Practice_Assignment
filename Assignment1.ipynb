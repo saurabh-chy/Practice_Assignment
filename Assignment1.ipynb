{
 "cells": [
  {
   "cell_type": "code",
   "execution_count": 5,
   "id": "b3e3c4e5",
   "metadata": {},
   "outputs": [],
   "source": [
    "# Python Program to Get hostname and IP Address\n",
    "import socket\n",
    "def getIP():\n",
    "    \"\"\"the function returns back the local comuter's name and its IP Address\"\"\"\n",
    "    hostname = socket.gethostname()\n",
    "    IPAddr = socket.gethostbyname(hostname)\n",
    "    print(\"Your Computer Name is:\" + hostname)\n",
    "    print(\"Your Computer IP Address is:\" + IPAddr)"
   ]
  },
  {
   "cell_type": "code",
   "execution_count": 4,
   "id": "62e30a52",
   "metadata": {},
   "outputs": [
    {
     "name": "stdout",
     "output_type": "stream",
     "text": [
      "Your Computer Name is:LAPTOP-TQLF9G63\n",
      "Your Computer IP Address is:192.168.1.17\n"
     ]
    }
   ],
   "source": [
    "getIP()"
   ]
  },
  {
   "cell_type": "markdown",
   "id": "e772177b",
   "metadata": {},
   "source": [
    "# write a function whihc will take multiple list as a input and give me concatnation of all the element as and output"
   ]
  },
  {
   "cell_type": "code",
   "execution_count": 56,
   "id": "4de69b61",
   "metadata": {},
   "outputs": [],
   "source": [
    "#Python code to demonstrate calling the function from another function\"\"\"\n",
    "\n",
    "def Square(x):\n",
    "    \"\"\"Function to calculate square of a given number\n",
    "        x - the number whose square is to be returned\"\"\"\n",
    "    return (x * x)\n",
    "\n",
    "def SumofSquares(List, n):\n",
    "    \"\"\"The function returns the sum of square of the List input\n",
    "        List - the list of numbers\n",
    "        n - size of the list\"\"\"\n",
    "    Sum = 0\n",
    "    for i in range(n):\n",
    "        SquaredValue = Square(List[i])\n",
    "        Sum += SquaredValue\n",
    "    return Sum\n",
    "\n",
    "# Driver Function\n",
    "def CalSumofSquare():\n",
    "        List = [1, 2, 3, 4, 5, 6, 7, 8, 9, 10]\n",
    "        n = len(List)\n",
    "        Total = SumofSquares(List, n)\n",
    "        print(\"Sum of the Square of List of Numbers:\", Total)"
   ]
  },
  {
   "cell_type": "code",
   "execution_count": 57,
   "id": "d3dd0edc",
   "metadata": {},
   "outputs": [
    {
     "name": "stdout",
     "output_type": "stream",
     "text": [
      "Sum of the Square of List of Numbers: 385\n"
     ]
    }
   ],
   "source": [
    "CalSumofSquare()"
   ]
  },
  {
   "cell_type": "markdown",
   "id": "8e6a18a7",
   "metadata": {},
   "source": [
    "# you have to write a fun which will take string and return a len of it without using a inbuilt fun len"
   ]
  },
  {
   "cell_type": "code",
   "execution_count": 27,
   "id": "1a6dddaf",
   "metadata": {},
   "outputs": [],
   "source": [
    "def LenStr(string):\n",
    "    \"\"\"string - The function takes one parameter as string input and returns the length of that\"\"\"\n",
    "    count=0\n",
    "    for i in string:\n",
    "        count=count+1\n",
    "    return count"
   ]
  },
  {
   "cell_type": "code",
   "execution_count": 29,
   "id": "82523641",
   "metadata": {},
   "outputs": [
    {
     "data": {
      "text/plain": [
       "5"
      ]
     },
     "execution_count": 29,
     "metadata": {},
     "output_type": "execute_result"
    }
   ],
   "source": [
    "LenStr('98656')"
   ]
  },
  {
   "cell_type": "markdown",
   "id": "aa47d62b",
   "metadata": {},
   "source": [
    "# write a fun which will be able to print an index of all premitive element which you will pass"
   ]
  },
  {
   "cell_type": "code",
   "execution_count": 2,
   "id": "5851a5ce",
   "metadata": {},
   "outputs": [],
   "source": [
    "def findIndex(a):\n",
    "    \"\"\" the function finds the type and index position of the input data\n",
    "        a - input data for which the type and index has to be obtained\"\"\"\n",
    "    if type(a)==str:\n",
    "        print(\"The input is a string\\n\")\n",
    "        for i in a:\n",
    "            print(\"index of\", i, 'is: ',a.index(i))\n",
    "    elif type(a)==list:\n",
    "        print(\"The input is a list\\n\")\n",
    "        for i in a:\n",
    "            print(\"index of\", i, 'is: ',a.index(i))\n",
    "    elif type(a)==tuple:\n",
    "        print(\"The input is a tuple\\n\")\n",
    "        for i in a:\n",
    "            print(\"index of\", i, 'is: ',a.index(i))\n",
    "    elif type(a)==set:\n",
    "        print(\"The input is a set\\n\")\n",
    "        a=list(a)\n",
    "        for i in a:\n",
    "            print(\"index of\", i, 'is: ',a.index(i))\n",
    "    elif type(a)==dict:\n",
    "        print(\"The input is a dictionary\\n\")\n",
    "        a=list(a)\n",
    "        for i in a:\n",
    "            print(\"The input is dictionary\\nindex of key\", i, \":\",a.index(i))\n",
    "    else:\n",
    "        print(\"the input is not iterable\")"
   ]
  },
  {
   "cell_type": "code",
   "execution_count": 4,
   "id": "c18f2f07",
   "metadata": {},
   "outputs": [
    {
     "name": "stdout",
     "output_type": "stream",
     "text": [
      "The input is a list\n",
      "\n",
      "index of 3 is:  0\n",
      "index of 4 is:  1\n"
     ]
    }
   ],
   "source": [
    "findIndex()"
   ]
  },
  {
   "cell_type": "markdown",
   "id": "7e5dd119",
   "metadata": {},
   "source": [
    "# Write a fun which will take input as a dict and give me out as a list of all the values even in case of 2 level nesting it should work ."
   ]
  },
  {
   "cell_type": "code",
   "execution_count": 1,
   "id": "d7d041ce",
   "metadata": {},
   "outputs": [],
   "source": [
    "def DictInList(dic):\n",
    "    \"\"\"Function takes input as a dictionary and gives out the list of all the values\n",
    "    dic - parameter that shall take input as a dictionary\"\"\"\n",
    "    if type(dic) == dict:\n",
    "        l=[]\n",
    "        for i in dic:\n",
    "            if type(dic[i])==int or type(dic[i])==str or type(dic[i])==complex or type(dic[i])==float or type(dic[i])==bool:\n",
    "                l.append(dic[i])\n",
    "            if type(dic[i])==list or type(dic[i])==tuple or type(dic[i])==set:\n",
    "                l.extend(dic[i])\n",
    "            if type(dic[i])==dict:\n",
    "                v=dic[i].values()\n",
    "                l.extend(v)\n",
    "        return l\n",
    "    else:\n",
    "        print(\"Not a valid input; input a proper dictionary\")"
   ]
  },
  {
   "cell_type": "code",
   "execution_count": 2,
   "id": "8c915c76",
   "metadata": {},
   "outputs": [
    {
     "data": {
      "text/plain": [
       "[1, 'sau', 3, 9, 4, 6, 101, 9, 'f', 't', 6, 67, 98, 98, 'i']"
      ]
     },
     "execution_count": 2,
     "metadata": {},
     "output_type": "execute_result"
    }
   ],
   "source": [
    "DictInList({'a':1, 'b':'sau', 'c':{'x':3, 'y':9},'d':[4,6,101],'e':{'f','t',6,9}, 'f':(67,98,98,'i')})"
   ]
  },
  {
   "cell_type": "markdown",
   "id": "9d50b0b6",
   "metadata": {},
   "source": [
    "# write a function whihc will take multiple list as a input and give me concatnation of all the element as and output"
   ]
  },
  {
   "cell_type": "code",
   "execution_count": 3,
   "id": "130c81cc",
   "metadata": {},
   "outputs": [],
   "source": [
    "def listConcat(*args):\n",
    "    \"\"\"the function may take multiple lists as input and give concatenation of all the elements as output\n",
    "    *args - dynamic/command line input as lists\"\"\"\n",
    "    lst=[]\n",
    "    for i in args:\n",
    "        lst.extend(i)\n",
    "    return lst"
   ]
  },
  {
   "cell_type": "code",
   "execution_count": 44,
   "id": "e1f7bb86",
   "metadata": {},
   "outputs": [
    {
     "data": {
      "text/plain": [
       "[2, 5, 6, 'a', 'f', 'h', 56, 98, 'asd']"
      ]
     },
     "execution_count": 44,
     "metadata": {},
     "output_type": "execute_result"
    }
   ],
   "source": [
    "listConcat([2,5,6],['a','f','h'],[56,98,'asd'])"
   ]
  },
  {
   "cell_type": "markdown",
   "id": "fc905cd4",
   "metadata": {},
   "source": [
    "# write a function which will be able to take a list as an input return an index of each element like a inbuilt index function but even if we have repetative element it should return index"
   ]
  },
  {
   "cell_type": "code",
   "execution_count": 4,
   "id": "5094a4a2",
   "metadata": {},
   "outputs": [],
   "source": [
    "def listIndex(a):\n",
    "    \"\"\" the function may take a list as an input and return an index of each element, even if the elements of the list are repetative\n",
    "    a - It is the parameter that shall pass in the form of list\"\"\"\n",
    "    if type(a)==list:\n",
    "        for i in range(len(a)):\n",
    "            print(\"The index of \", a[i], \":\",i )\n",
    "    else:\n",
    "        print(\"input a list\")\n",
    "        "
   ]
  },
  {
   "cell_type": "code",
   "execution_count": 18,
   "id": "c58bdcbf",
   "metadata": {},
   "outputs": [
    {
     "name": "stdout",
     "output_type": "stream",
     "text": [
      "The index of  45 : 0\n",
      "The index of  5 : 1\n",
      "The index of  6 : 2\n",
      "The index of  6 : 3\n",
      "The index of  89 : 4\n",
      "The index of  0 : 5\n"
     ]
    }
   ],
   "source": [
    "listIndex([45,5,6,6,89,0])"
   ]
  },
  {
   "cell_type": "markdown",
   "id": "1055fa88",
   "metadata": {},
   "source": [
    "# write a function which will be able to show your system configuration ."
   ]
  },
  {
   "cell_type": "code",
   "execution_count": 7,
   "id": "5cf388bc",
   "metadata": {},
   "outputs": [],
   "source": [
    "import platform\n",
    "def SysConfig():\n",
    "    \"\"\"the function showa the cinfiguaration of the computer\"\"\"\n",
    "    my_system = platform.uname()\n",
    "    return my_system\n"
   ]
  },
  {
   "cell_type": "code",
   "execution_count": 49,
   "id": "cdd25a9e",
   "metadata": {},
   "outputs": [
    {
     "data": {
      "text/plain": [
       "uname_result(system='Windows', node='LAPTOP-TQLF9G63', release='10', version='10.0.22000', machine='AMD64', processor='Intel64 Family 6 Model 142 Stepping 12, GenuineIntel')"
      ]
     },
     "execution_count": 49,
     "metadata": {},
     "output_type": "execute_result"
    }
   ],
   "source": [
    "SysConfig()"
   ]
  },
  {
   "cell_type": "markdown",
   "id": "abab41bd",
   "metadata": {},
   "source": [
    "# write a function which will be able to show date and time  ."
   ]
  },
  {
   "cell_type": "code",
   "execution_count": 8,
   "id": "feb7826c",
   "metadata": {},
   "outputs": [],
   "source": [
    "import datetime\n",
    "def DateTime():\n",
    "    \"\"\"the function is able to show the current systemm date and time\"\"\"\n",
    "    dt=datetime.datetime.now()\n",
    "    return dt\n",
    "    "
   ]
  },
  {
   "cell_type": "code",
   "execution_count": 55,
   "id": "aa42863f",
   "metadata": {},
   "outputs": [
    {
     "data": {
      "text/plain": [
       "datetime.datetime(2022, 1, 6, 11, 7, 34, 882205)"
      ]
     },
     "execution_count": 55,
     "metadata": {},
     "output_type": "execute_result"
    }
   ],
   "source": [
    "DateTime()"
   ]
  },
  {
   "cell_type": "markdown",
   "id": "79b51b94",
   "metadata": {},
   "source": [
    "# write a function whihc will be able to read a image file and show it to you ."
   ]
  },
  {
   "cell_type": "code",
   "execution_count": 9,
   "id": "2952453f",
   "metadata": {},
   "outputs": [],
   "source": [
    "import matplotlib.image as mpimg\n",
    "import matplotlib.pyplot as plt\n",
    "def readImg(path):\n",
    "    \"\"\"the function reads the image file and displays it on x-y axis\n",
    "    url - the parameter passes the path of the image\"\"\"\n",
    "    img=mpimg.imread(path)\n",
    "    plt.imshow(img)\n",
    "    "
   ]
  },
  {
   "cell_type": "code",
   "execution_count": 10,
   "id": "56bd3f5a",
   "metadata": {},
   "outputs": [
    {
     "data": {
      "image/png": "[encoded data removed]",
      "text/plain": [
       "<Figure size 432x288 with 1 Axes>"
      ]
     },
     "metadata": {
      "needs_background": "light"
     },
     "output_type": "display_data"
    }
   ],
   "source": [
    "readImg(\"C://Users//saura//OneDrive//desktop//President.png\")"
   ]
  },
  {
   "cell_type": "markdown",
   "id": "1db6f08f",
   "metadata": {},
   "source": [
    "# Write a function which will whould return list of all the file name from a directory ."
   ]
  },
  {
   "cell_type": "code",
   "execution_count": 6,
   "id": "2a6f6075",
   "metadata": {},
   "outputs": [],
   "source": [
    "import os\n",
    "def filesInDir(path):\n",
    "    \"\"\" the function returns the list of files from a directory\n",
    "    path - the parameter passes the path of the directory in inverted quotes viz. C://Users//desktop\"\"\"\n",
    "    dir_list = os.listdir(path)\n",
    "    print(\"Files and directories in \", path, \" -\\n\")\n",
    "    return dir_list"
   ]
  },
  {
   "cell_type": "code",
   "execution_count": 2,
   "id": "1b25d090",
   "metadata": {},
   "outputs": [
    {
     "name": "stdout",
     "output_type": "stream",
     "text": [
      "Files and directories in  C://Users//saura//OneDrive//desktop  -\n",
      "\n"
     ]
    },
    {
     "data": {
      "text/plain": [
       "['402-IT_ClassX.pdf',\n",
       " 'career counselling.docx',\n",
       " 'career-counselling (1).jpg',\n",
       " 'career-counselling.jpg',\n",
       " 'CDS.pptx',\n",
       " 'Convocation 2016@NU.png',\n",
       " 'Coping',\n",
       " 'Cover letter -  Associate Dean.docx',\n",
       " 'CV_Admissions.docx',\n",
       " 'CV_Admissions.pdf',\n",
       " 'CV_Krea.docx',\n",
       " 'CV_Saurabh Choudhary.docx',\n",
       " 'CV_Saurabh Choudhary.pdf',\n",
       " 'desktop.ini',\n",
       " 'draft research proposal.docx',\n",
       " \"english activity's images.docx\",\n",
       " 'export.xml',\n",
       " 'fig.jpg',\n",
       " 'First Research paper.docx',\n",
       " 'Front page.pdf',\n",
       " 'GitHub Desktop.lnk',\n",
       " 'Income Tax - BHAWNA.pdf',\n",
       " 'Introduction (1).pdf',\n",
       " 'ITR1 preview.pdf',\n",
       " 'Lincoln Ph.D. Proposal.docx',\n",
       " 'Lincoln PhD',\n",
       " 'Literature on CCB.jpg',\n",
       " 'Mendeley Reference Manager.lnk',\n",
       " 'Microsoft Teams.lnk',\n",
       " 'New folder',\n",
       " 'New Microsoft Excel Worksheet.xlsx',\n",
       " 'New Microsoft PowerPoint Presentation.pptx',\n",
       " 'New Microsoft Word Document (2).docx',\n",
       " 'New Microsoft Word Document.docx',\n",
       " 'Nitish Kumar.png',\n",
       " 'Pages _ IIM Sirmaur _ Himachal Pradesh.pdf',\n",
       " 'Pages _ IIM Sirmaur _ Himachal Pradesh2.pdf',\n",
       " 'payment_receipt.pdf',\n",
       " 'Pdf_103134100071221.pdf',\n",
       " 'Personality-BigFiveInventory.docx',\n",
       " 'Ph.D. Presentation.pptx',\n",
       " 'Ph.D. Proposal Draft for Lincoln.docx',\n",
       " 'Ph.D. Proposal for Lincoln 3.docx',\n",
       " 'PhD proposal',\n",
       " 'PhD_Proposal_PRN20029001051.pdf',\n",
       " 'practice Mendley.docx',\n",
       " 'Practice.sav',\n",
       " 'Presentation 1.pptx',\n",
       " 'presentation on crc',\n",
       " 'Presentation-CDS.pptx',\n",
       " 'President.png',\n",
       " 'Propsal for submission.docx',\n",
       " 'Python Programs.docx',\n",
       " 'Research Model.pdf',\n",
       " 'Resume & SoP',\n",
       " 'Resume_AUS.pdf',\n",
       " 'Resume_for_DR.pdf',\n",
       " 'Resume_Saurabh Choudhary.pdf',\n",
       " 'Resume_SC.pdf',\n",
       " 'Saurabh - Chrome.lnk',\n",
       " 'Saurabh_Resume_DA.pdf',\n",
       " 'SIU Ph.D. Presentation.pptx',\n",
       " 'Sumi Pics',\n",
       " 'Symbiosis PhD',\n",
       " 'Tuple vs List.docx',\n",
       " 'What I did.pptx',\n",
       " 'Zoom.lnk',\n",
       " '~$ple vs List.docx',\n",
       " '~$search Model.docx']"
      ]
     },
     "execution_count": 2,
     "metadata": {},
     "output_type": "execute_result"
    }
   ],
   "source": [
    "filesInDir(\"C://Users//saura//OneDrive//desktop\")"
   ]
  },
  {
   "cell_type": "markdown",
   "id": "fa38f7e4",
   "metadata": {},
   "source": [
    "# write a function whihc can move a file from one directory to another directory ."
   ]
  },
  {
   "cell_type": "code",
   "execution_count": 11,
   "id": "93e299a9",
   "metadata": {},
   "outputs": [],
   "source": [
    "import shutil \n",
    "def moveFile(s,d): \n",
    "    \"\"\"the function moves the file at a particular location to another specified location\n",
    "    s - the parameter passes the path (file included) of the file from where the file has to be moved\n",
    "    d - the parameter passes the path where the file has to be moved\"\"\"\n",
    "    shutil.move(s, d)"
   ]
  },
  {
   "cell_type": "code",
   "execution_count": 11,
   "id": "ca207996",
   "metadata": {},
   "outputs": [],
   "source": [
    "moveFile(\"C://Users//saura//OneDrive//desktop//Lincoln PhD//PhD proposal//bolino-2015.pdf\",\"C://Users//saura//OneDrive//desktop//Coping\")"
   ]
  },
  {
   "cell_type": "markdown",
   "id": "e6c644a6",
   "metadata": {},
   "source": [
    "# write a function which will be able to shutdonw your system ."
   ]
  },
  {
   "cell_type": "code",
   "execution_count": null,
   "id": "6112bf5b",
   "metadata": {},
   "outputs": [],
   "source": [
    "import os\n",
    "def shutdown():\n",
    "    \"\"\"the function shuts down the system when called\"\"\"\n",
    "    shutdown = input(\"Do you wish to shutdown your computer ? (yes / no): \")\n",
    "    if shutdown == 'no':\n",
    "        exit()\n",
    "    else:\n",
    "    os.system(\"shutdown /s /t 1\")\n"
   ]
  },
  {
   "cell_type": "markdown",
   "id": "d1b54279",
   "metadata": {},
   "source": [
    "# write a function to read a word file ."
   ]
  },
  {
   "cell_type": "code",
   "execution_count": 17,
   "id": "aa01f2bb",
   "metadata": {},
   "outputs": [
    {
     "name": "stdout",
     "output_type": "stream",
     "text": [
      "Surviving an abusive supervisor: The joint roles of conscientiousness and coping strategies\n",
      "\n",
      "\n",
      "\n",
      "Amit K. Nandkeolyar\n",
      "Indian School of Business\n",
      "Gachibowli, Hyderabad - 500032, India\n",
      "Phone: (91) 40 2318 7160\n",
      "Fax: (91) 40 2300 7021\n",
      "Email: \n",
      "\n",
      "Jonathan A. Shaffer\n",
      "West Texas A&M University\n",
      "Department of Management, Marketing, and General Business\n",
      "WTAMU BOX 60809\n",
      "Phone: 806-651-2489\n",
      "Fax: 806-651-2488\n",
      "Email: \n",
      "\n",
      "Andrew Li\n",
      "West Texas A&M University\n",
      "Department of Management, Marketing, and General Business\n",
      "WTAMU BOX 60809\n",
      "Phone: 806-651-2496\n",
      "Fax: 806-651-2488\n",
      "Email: \n",
      "\n",
      "Srinivas Ekkirala\n",
      "XLRI Jamshedpur\n",
      "Xavier School of Management\n",
      "C.H. Area, Jamshedpur - 831001, India\n",
      "Phone: (91) 657 6653048\n",
      "Fax: (91) 657 2227814\n",
      "Email: \n",
      "\n",
      "Jessica Bagger\n",
      "California State University, Sacramento\n",
      "College of Business Administration\n",
      "6000 J Street\n",
      "Sacramento, CA 95819-6088\n",
      "Phone: (916) 278-7133\n",
      "Fax: (916) 278-6489\n",
      "Email: \n",
      "\n",
      "\n",
      "\n",
      "\n",
      "\n",
      "\n",
      "ABSTRACT \n",
      "The present study examines a mediated moderation model of the effects of conscientiousness and coping strategies on the relationship between abusive supervision and employees’ job performance. Across two studies conducted in India, we found evidence that the relationship between abusive supervision and job performance was weaker when employees were high in conscientiousness. In addition, we found that the use of an avoidance coping strategy facilitated a negative relationship between abusive supervision and performance. Finally, we found that the moderating effects of conscientiousness were mediated by the use of avoidance coping strategies. Our findings contribute to theories of abusive supervision, personality, coping strategies and job performance. \n",
      "\n",
      "\n",
      "\n",
      "The past decade has seen tremendous growth in research on abusive supervision. Defined as “the sustained display of hostile verbal and nonverbal behaviors, excluding physical contact” (Tepper, 2000, p. 178), abusive supervision has been shown to have a negative influence on important outcomes such as workplace deviance (Mitchell & Ambrose, 2007; Tepper, Henle, Lambert, Giacalone, & Duffy, 2008; Thau, Bennett, Mitchell, & Marrs, 2009), organizational citizenship behaviors (Aryee, Chen, Sun, & Debrah, 2007), and overall job performance (Harris, Kacmar, & Zivnuska, 2007). Scholars have examined the boundary conditions of the influence of abusive supervision and this research suggests that personality differences between victims of abusive supervision moderate its effects (Bamberger & Bacharach, 2006; Tepper, Duffy, & Shaw, 2001). Although extant studies suggest that employee personality plays a role in determining how employees respond to abusive supervision, they are relatively silent on the process through which these moderating effects occur. In their metatheoretical framework of personality, McCrae and Costa (1996) argue that the effect of personality on behavior is realized through its influence on the extent to which people adapt to their environments. One category of adaptations to the environment is the coping strategies that individuals use to overcome the stress present in their social environment. Past research has suggested that stress can be more or less detrimental to work outcomes, depending on the coping strategies that employees adopt (Dijkstra, De Dreu, Evers, & van Dierendonck, 2009; Koeske, Kirk, & Koeske, 1993). In the context of abusive supervision, the metatheoretical framework of personality suggests that the moderating effects of personality on the abusive supervision-job performance relationship may be carried by its influence on the coping strategies that people adopt in response to the abuse.\n",
      "In the current article, we focus on the moderating role that conscientiousness and two broad categories of coping strategies—active and avoidance (Connor-Smith & Flachsbart, 2007)—play in the association between abusive supervision and performance. The literature related to personality and stress suggests that individuals high in conscientiousness are more likely to persevere under duress and less likely to allow stress to prevent them from accomplishing job-related tasks, thereby allowing them to maintain their performance despite the abusive treatment by their supervisor. The transactional model of stress and coping strategies (Lazarus & Folkman, 1987) provides the potential underlying mechanisms by which the moderating effects of conscientiousness are realized, proposing that the nature of the relationship between stress and work outcomes depends on the coping strategies that individuals adopt. Active coping strategies tend to diffuse the negative effects of stress while avoidance strategies tend to worsen such effects (Carver & Connor-Smith, 2010). In the sections that follow we propose that the negative effects of abusive supervision on job performance will be (a) weaker for employees high in conscientiousness, (b) weaker for employees who implement active coping strategies, and (c) stronger for employees who implement avoidance coping strategies. Furthermore, because individuals high in conscientiousness are more likely to adopt effective coping strategies and eschew ineffective coping strategies (Watson & Hubbard, 1996), we ultimately hypothesize that the moderating effects of conscientiousness will be mediated through its effects on coping strategy choices. Our proposed theoretical model is presented in Figure 1. \n",
      "\tOur research makes several theoretical contributions. First, we aim to demonstrate that the effects of abusive supervision on employees’ performance vary as a function of the coping strategies that individuals adopt. This investigation is an important addition to the abusive supervision literature which has given little attention to the notion that the effects of abusive supervision, at least to some extent, may rest within the volitional control of targeted employees through their use of effective or ineffective coping strategies. Second, although previous research has suggested that individuals high in conscientiousness are more likely to persevere under duress and are less likely to allow a stressful environment to influence work outcomes (Bowling & Eschleman, 2010), the underlying psychological processes by which these interactive effects are realized have typically been inferred rather than empirically examined (Grant & Langan-Fox, 2007; Korotkov, 2008). This omission has meaningful implications for personality research, given that “the failure to specify the mechanisms linking particular personality traits or dimensions to criteria was partly responsible for the earlier demise of research on personality in the workplace” (Raja, Johns, & Ntalianis, 2004, p. 350). Third, although many studies have examined how personality and coping may independently influence outcomes, “far fewer have explored the intersection of personality and coping in relation to outcomes” (Carver & Connor-Smith, 2010, p. 694), suggesting the need to investigate how personality traits may influence coping strategy choice, which subsequently influences individual responses to stressful events. We shed light on these issues by investigating whether coping strategies serve as mediating mechanisms accounting for both when and how conscientiousness reduces the impact of abusive supervision on job performance.\n",
      "ABUSIVE SUPERVISION AS A WORKPLACE STRESSOR\n",
      "\tIn keeping with previous theoretical work, we consider stressors to be “stimuli that evoke the stress process” (LePine, Podsakoff, & LePine, 2005, p. 764). According to the transactional model of stress, individuals evaluate the potential impact of stressors based on a two-stage appraisal process. In the primary appraisal stage, individuals determine how relevant a given stressor is to their general welfare. Then, in the secondary appraisal stage, individuals determine whether something can be done to eliminate or reduce the detrimental impact of a given stressor and which coping strategies are most appropriate for the situation (Lazarus & Folkman, 1987). The appraisal process may unfold differently across individuals, because a given stressor may be perceived as more or less threatening from individual to individual (Stewart & Nandkeolyar, 2007). However, some stressors, especially those in the context of the workplace, are interpreted in a relatively homogenous manner (LePine et al., 2005). Given the aversive nature of abusive supervision and its demonstrated effects on employee attitudes, researchers have suggested that it is likely a phenomenon that is interpreted similarly across employees as a highly salient, negative stressor (Aquino & Thau, 2009). Decisions about how to deal with such stress, however, may vary widely across individuals. Therefore, in the present research we focus on the second stage of the appraisal process by investigating conscientiousness and coping strategies as mechanisms mitigating the effects of stressors.\n",
      "\t The conceptualization of abusive supervision as a workplace stressor offers a possible explanation for the relationship between abusive supervision and job performance. Gilboa, Shirom, Fried, and Cooper (2008) theorize that stress leads to decreased job performance because (a) it requires employees to focus physical effort and resources on dealing with the source of their stress instead of on job tasks, (b) it requires employees to spend cognitive resources on managing stress instead of on job tasks, and (c) stress leads to physiological reactions (such as anxiety or panic attacks) that inhibit performance. The notion that abusive supervision serves as a workplace stressor is supported by empirical evidence showing that stress and abusive supervision both lead to similar outcomes. Specifically, both general stress and abusive supervision are positively related to anxiety and depression (Bamberger & Bacharach, 2006; Bowling & Beehr, 2006; Tepper, 2000), hostility (Hoobler & Brass, 2006; Motowidlo, Packard, & Manning, 1986), and job satisfaction (LePine et al., 2005; Tepper, Duffy, Hoobler, & Ensley, 2004). However, the direct relationship between stress and job performance is equivocal, suggesting the need to investigate potential moderators (Gilboa et al., 2008).\n",
      "The role of conscientiousness. Individuals high in conscientiousness can be characterized as being reliable, hardworking, self-disciplined, and persevering. In contrast, individuals who are low in conscientiousness can be described as careless, undependable, thoughtless, and sloppy (McCrae & Costa, 1987). Perseverance and discipline are critical components of job performance (Campbell, 1990), making conscientiousness a trait that is relevant to performance (Barrick & Mount, 1991; Hurtz & Donovan, 2000).\n",
      "Under stressful conditions employees may shift work-related efforts to deal with the source of their stress, thereby reducing their job performance. However, extant research suggests that highly conscientious individuals are more likely to respond to stress in productive ways than are those low in conscientiousness (Cullen & Sackett, 2003). This is because individuals high in conscientiousness are more likely to be thoughtful and deliberate in their responses to work stress in an effort to maintain high levels of job performance (Yang & Diefendorff, 2009). Highly conscientious individuals are more likely to focus on the completion of their job duties, even in the face of high levels of stress, compared to those low in conscientiousness (Bowling & Eschleman, 2010). Colbert, Mount, Harter, Witt, and Barrick (2004) found that conscientiousness interacts with employee perceptions of the workplace such that adverse work conditions led to lower levels of effort for employees low in conscientiousness. In contrast, the effort levels of employees high in conscientiousness remained constant under the same conditions. We predict that less conscientious individuals are more likely to exhibit decreases in job performance under conditions of abusive supervision. In contrast, we expect individuals high in conscientiousness to maintain their job performance under conditions of abusive supervision.\n",
      "Hypothesis 1: Conscientiousness moderates the relationship between abusive supervision and job performance such that the relationship is negative for those low in conscientiousness but not for those high in conscientiousness.\n",
      "The role of coping strategies. If abusive supervision represents a workplace stressor, then it follows that victims of abusive supervision may attempt to deal with that stress through the use of coping strategies. Coping has been defined as “…conscious, volitional attempts to regulate the environment or one’s reaction to the environment under stressful conditions” (Connor-Smith & Flachsbart, 2007, p. 1080). Many approaches to categorizing coping strategies exist (see Skinner, Edge, Altman, & Sherwood, 2003 for a review of these taxonomies). Researchers have argued that characterizing coping strategies as either active or avoidance captures the most essential differences among them (Carver & Connor-Smith, 2010; Connor-Smith & Flachsbart, 2007; Roth & Cohen, 1986). Active coping can be described as a process of problem solving in that it tends to concentrate on recognizing adversity and making direct attempts to overcome it (Lazarus & Folkman, 1984). In contrast, the purpose of avoidance coping is to withdraw from adversity altogether (Skinner et al., 2003). These coping strategies may be realized through physical, cognitive, or emotional mechanisms (Lazarus & Folkman, 1984).\n",
      "Personality traits tend to influence the extent to which individuals prefer certain coping strategies over others (Bolger & Zuckerman, 1995). When faced with stress, individuals high in conscientiousness are more likely to select active coping strategies that focus on directly addressing the stressor (Lee-Baggley, Preece, & DeLongis, 2005; Ortega, Brenner, & Leather, 2007; Penley & Tomaka, 2002; Watson & Hubbard, 1996). This aligns with self-regulation theory, which suggests that individuals generally adopt either promotion (active) or prevention (avoidance) strategies when dealing with stress (Carver & Scheier, 1982), and that individuals high in conscientiousness are more likely to engage in promotion-focused regulation as opposed to prevention-focused regulation (Gorman et al., 2011). At the same time, because of their higher levels of self-discipline, reliability, and perseverance, individuals high in conscientiousness are less likely to abandon their goals or duties under stressful conditions, physically avoid their workplace, or become mentally or emotionally detached from their work environment (Watson & Hubbard, 1996). Recent meta-analytic findings support these assertions, showing that conscientiousness correlates positively with active coping and negatively with avoidance coping (Connor-Smith & Flachsbart, 2007). To corroborate existing empirical research, we hypothesize the following:\n",
      "Hypothesis 2a: Conscientiousness is positively related to active coping strategies.\n",
      "Hypothesis 2b: Conscientiousness is negatively related to avoidance coping strategies.\n",
      "Active coping strategies typically involve efforts to identify the sources of stress and determine possible ways to eliminate them (Lazarus & Folkman, 1984). It is important to specify that the use of active coping does not necessarily lead to increases in desired work outcomes. Instead, researchers argue that active coping strategies tend to weaken the relationship between stress and negative work outcomes by buffering the negative, main effects of stress (Koeske et al., 1993). Thus, individuals who adopt active coping strategies should be more likely to regulate their behavioral and emotional responses to abusive supervision, thereby mitigating its negative influence on job performance. This can occur in several ways. First, an employee who chooses an active coping strategy may directly confront their supervisor in an attempt to persuade the supervisor to interact with them in a more constructive manner. Second, an active coping strategy may lead employees to make strong, proactive efforts related to accomplishing their work tasks with the purpose of reducing the extent to which their supervisor may have reasons to treat them unfairly or to give them a poor performance rating. Finally, some stressors, such as abusive supervision, can be difficult to eliminate. In these cases, active coping strategies may focus on seeking support in the form of advice from a friend, family member, or colleague. In short, we expect that the job performance of individuals who adopt active coping strategies will be less affected by abusive supervision. This is because employees who engage in active coping are more likely to deal with abusive supervision in productive ways, making abusive supervision less likely to have a negative influence on their job performance.\n",
      "Hypothesis 3a: Active coping moderates the relationship between abusive supervision and job performance such that the relationship between abusive supervision and job performance is weaker for individuals who engage in active coping.\n",
      "Individuals who adopt avoidance coping strategies in the workplace typically enact this strategy through mental or emotional disengagement from the work itself (e.g., by daydreaming or avoiding thoughts about work) or through physical disengagement from their colleagues and the workplace (e.g., by increased tardiness or absenteeism). We expect the adoption of avoidance coping strategies to strengthen the impact of abusive supervision on job performance. This is because while avoidance coping may reduce the proximal effects of abusive stress, it does nothing to address the actual source of the stress or to reduce its distal effects (Jordan, Ashkanasy, & Hartel, 2002). Indeed, research has indicated that the adoption of avoidance coping strategies actually may exacerbate the negative effects of stress (Chan, 1998; Dijkstra et al., 2009; Koeske et al., 1993). This occurs for several reasons. First, stress may decrease job performance because it forces employees to spend effort attending to stressors instead of their job duties. Attempting to avoid stress in the short-term may increase its negative impact on performance in the long-term, as it may require even more effort to deal with the stressor at a later point in time. Second, stress can also increase the extent to which employees experience negative physiological or emotional responses that interfere with performance. Research shows that implementing avoidance coping strategies—especially through the use of mental disengagement—may result in an unintended increase in the negative responses that accompany stress, thus aggravating the effects of stress on performance (Wenzlaff & Wegner, 2000). From a conservation of resources perspective (Hobfoll, 1989), individuals using avoidance coping are particularly vulnerable to stress because avoidance coping demands a substantial investment of resources (e.g., willpower) without addressing the source of stress. The depletion of these limited resources leads to impairment of self-regulation and self-control, ultimately resulting in downward performance spirals (Muraven & Baumeister, 2000). Finally, avoiding stress through the use of destructive behaviors—such as alcohol or drug abuse—can result in additional negative work or life consequences (Carver & Connor-Smith, 2010). \n",
      "Hypothesis 3b: Avoidance coping moderates the relationship between abusive supervision and job performance such that the relationship is negative for individuals who engage in avoidance coping.\n",
      "In combination, these hypotheses propose that active and avoidance coping strategies mediate the moderating effects of conscientiousness on the relationship between abusive supervision and job performance. As outlined by Grant and Berry (2011), this type of mediated moderation model is one in which a moderating variable (conscientiousness) influences the relationship between the independent (abusive supervision) and dependent (job performance) variables; the moderator (conscientiousness) drives the mediating variables (active and avoidance coping); and the mediating variables also have a moderating effect on the relationship between the independent and dependent variables. The end result of this process is that the original moderating effect of conscientiousness is mediated through its effects on active and avoidance coping. \n",
      "Hypothesis 4a: Active coping mediates the moderating effects of conscientiousness on the relationship between abusive supervision and job performance.\n",
      "Hypothesis 4b: Avoidance coping mediates the moderating effects of conscientiousness on the relationship between abusive supervision and job performance.\n",
      "Study 1 Method\n",
      "Participants and Procedures\n",
      "\tData were collected from a sample of insurance claims processors who were employed full-time in a large, publicly owned, information technology company in India. The average age of the employees was 28.34 years (SD = 3.27). The participants had an average of 3.61 years (SD = 1.78) of tenure in their current job. One of the authors distributed English language questionnaires containing the independent, moderator, and control variables to approximately 750 employees. Employees completed the questionnaires during paid work time. 661 employees returned questionnaires. Job performance ratings were obtained from organizational records in the month-end after the completion of the survey. Missing or invalid data and the unavailability of matching performance records reduced our final sample size to 363 employees. \n",
      "Measures\n",
      "Abusive supervision. Perceptions of abusive supervision were measured using the 5-item scale developed by Mitchell and Ambrose (2007). This scale is a shortened version of Tepper’s (2000) original 15-item scale and has been used in previous research (Tepper et al., 2009; Thau & Mitchell, 2010). Respondents indicated the extent to which their supervisor engaged in such behaviors by using a 5-point scale ranging from 1 (strongly disagree) to 5 (strongly agree). \n",
      "Conscientiousness. Conscientiousness was measured using the corresponding 10-item scale from the International Personality Item Pool (IPIP; Goldberg, 1992). Respondents completed this measure by indicating the extent to which each item accurately described them on a 5-point scale ranging from 1 (very inaccurate) to 5 (very accurate).\n",
      "Job performance. We obtained supervisory ratings of job performance from company archives. The performance rating for each employee consisted of three parameters—quantity of work output, quality of work output, and additional factors not related to productivity or quality (e.g., absenteeism). The company had established monthly performance targets for each of these performance categories and evaluated each employee based on the extent to which the employee had met their performance targets for each category. The three performance dimensions were then combined into an overall job performance score that ranged from 4.49-200.91% (i.e. the lowest performing employee in the sample achieved very little in comparison to their monthly target, and the highest performing employee achieved twice their performance target). The average performance rating for this sample was 88.48 (SD = 25.42). We did not have access to employees’ raw scores for each of the three performance components. Thus, we were unable to estimate the internal reliability of the job performance measure in this sample.\n",
      "Control variables. We controlled for participants’ age, gender, and job tenure. \n",
      "Study 1 Results and Discussion\n",
      "\tTable 1 shows the means, standard deviations, and correlations for all study variables. We tested our hypotheses using hierarchical regression and simple slopes analysis. Hypothesis 1 predicted that the relationship between abusive supervision and job performance would be negative for those low in conscientiousness. The results of our regression analyses are shown in Table 2. The regression coefficient for the interaction between abusive supervision and conscientiousness was positive and marginally significant (β = .09; p = .077, ΔR2 = .01). To interpret our results, we followed the procedures outlined by Aiken and West (1991) for depicting interactions. This interaction is depicted in Figure 2. We also conducted a simple slopes analysis, which indicated that the effect of abusive supervision on job performance was negative and significant when conscientiousness was 1 standard deviation below the mean (β = -.14, 95% CI = -.27, -.01), but was nonsignificant when conscientiousness was 1 standard deviation above the mean (β = .04, 95% CI = -.13, .20). To supplement these results, we identified the region of significance in the distribution of conscientiousness in which the conditional effect of abusive supervision on job performance was significant. We plotted this analysis (shown in Figure 2), which indicated that the effects of abusive supervision on performance were negative and significant (p < .05) when conscientiousness was .76 standard deviations or more below the mean. These results suggest that under conditions of abusive supervision performance was lower only for those low in conscientiousness and provide some support for Hypothesis 1.\n",
      "Study 2 Method\n",
      "Participants and Procedures\n",
      "\tTo test the remainder of our hypotheses, we conducted a second study in India with a sample of employees working in a subsidiary of a multinational corporation producing medical diagnostic equipment. The average age of the employees was 30.75 years (SD = 5.20). They had an average of 8.08 years (SD =4.40 years) of work experience and 1.11 (SD = 1.59) years of experience with their current supervisor. Using information obtained from the company’s human resource department, we sent electronic mail to 140 employees inviting them to participate in this study as part of a leadership training workshop conducted by one of the authors. All of the data collection was conducted in English via an online survey. We received useable responses from 105 employees and their supervisors, for a response rate of 76%.\n",
      "Measures\n",
      "Abusive supervision. We measured abusive supervision using the 15-item scale developed by Tepper (2000). Respondents indicated the extent to which their supervisor engaged in such behaviors by using a 5-point scale ranging from 1 (strongly disagree) to 5 (strongly agree). \n",
      "Conscientiousness. Conscientiousness was measured using the corresponding 10-item scale from the IPIP (Goldberg, 1992). Respondents used a 5-point scale ranging from 1 (strongly disagree) to 5 (strongly agree) to indicate the extent to which each item accurately described them. \n",
      "Coping. We measured active and avoidance coping strategies with a revised version of the Ways of Coping Checklist (WCC; Lazarus & Folkman, 1984). This version of the WCC has been used in previous research and contains items that reflect coping strategies used in the context of the workplace (Long, 1990). Participants were asked to indicate how they behaved at work in response to stressful events on a scale ranging from 1 (don’t do at all) to 4 (do this a lot). The scale for active coping consists of 11 items. Sample items include “Came up with a couple of different solutions to the problem”, “Talked to someone who could do something concrete about the problem”, “Confronted my supervisor with problems”, “Talked to someone about how I was feeling”, and “I went over in my mind what I would say or do”. The scale for avoidance coping consists of 17 items. Sample items include “Left work as soon as possible”, “Avoided other staff members”, “Took it out on other people”, “I daydreamed or imagined a better time or place than the one I was in”, and “Wished the situation would go away or somehow be over with”.\n",
      "Job performance. Job performance was measured with a 4-item scale provided by Welbourne, Johnson & Erez (1998). Supervisors rated the quality, accuracy, and quantity of the work of the participants, along with the quality of customer care. Each item was rated on a scale ranging from 1 (needs improvement) to 5 (excellent).\n",
      "Control variables. We controlled for participants’ age, gender, and total work experience. Because research indicates that prolonged exposure to a stressor may decrease an individual’s sensitivity to that stressor (Bonanno, 2004; Wampold, 2007), we also controlled for the experience that each participant had with their current supervisor. \n",
      "Study 2 Results and Discussion\n",
      "\tMeans, standard deviations, and correlations for Study 2 are shown in Table 3. As shown in Table 4 (Step 2), the interaction term for abusive supervision and conscientiousness was positive and significant (β = .24, p = .033, ΔR2 = .04). We plotted the interaction in order to interpret the interaction term. The pattern of the results was consistent with our prediction and is shown in Figure 3. A simple slopes analysis showed that the effect of abusive supervision on job performance was nonsignificant when conscientiousness was one standard deviation above the mean (β = .18, 95% CI = -.08, .44) and was negative and significant when conscientiousness was one standard deviation below the mean (β = -.27, 95% CI = -.53, -.02). We also plotted the region of significance for this interaction (shown in Figure 3). As in Study 1, the results indicated that the effects of abusive supervision on job performance were negative and significant (p < .05) when conscientiousness was .76 standard deviations or more below the mean. These results are consistent with those from Study 1 and further suggest that under conditions of abusive supervision, performance is lower only for those low in conscientiousness. Overall, the results from Studies 1 and 2 lend support to Hypothesis 1.\n",
      "Hypotheses 2a and 2b predicted that conscientiousness would be positively associated with active coping and negatively associated with avoidance coping, respectively. As shown in Table 4, the relationship between conscientiousness and active coping was positive and significant (β = .41, p < .00); the relationship between conscientiousness and avoidance coping was negative and significant (β = -.38, p < .00). These results suggest support for Hypotheses 2a and 2b.\n",
      "\tHypothesis 3a predicted that active coping would moderate the effects of abusive supervision on job performance, while Hypothesis 3b predicted that avoidance coping would moderate those effects. We tested these hypotheses using moderated regression analysis. Step 3 in Table 4 shows that the interaction between abusive supervision and active coping was not significant (β = -.13; p = .44), while the interaction between abusive supervision and avoidance coping was negative and significant (β = -.32, p = .052). Simple slopes analysis showed that the relationship between abusive supervision and job performance was negative and significant when avoidance coping was one standard deviation above the mean (β = -.35, 95% CI = -.67, -.02) and was nonsignificant when avoidance coping was one standard deviation below the mean (β = .13, 95% CI = -.20, .45). The plot of the interaction between abusive supervision and avoidance coping and regions of significance are shown in Figure 4. The results suggest that the effects of abusive supervision on job performance were negative and significant (p < .05) when avoidance coping was .69 standard deviations or more above the mean. These results are consistent with Hypothesis 3b, but not with Hypothesis 3a.\n",
      "\tHypothesis 4a predicted that active coping would mediate the moderating effects of conscientiousness on the relationship between abusive supervision and job performance. Since the interaction between active coping and abusive supervision was not significant in Step 3, Hypothesis 4a was not supported. Hypothesis 4b predicted that avoidance coping would mediate the moderating effects of conscientiousness on the relationship between abusive supervision and job performance. The results in Table 4 indicate the regression coefficient for the interaction between abusive supervision and avoidance coping was significant in our full model, while the regression coefficient for the interaction between abusive supervision and conscientiousness was nonsignificant (β = .17; p = .17). This suggests that the moderating effects of conscientiousness on the relationship between abusive supervision and job performance were fully mediated by avoidance coping. To further test Hypothesis 4b, we applied the procedures described by Grant and Wrzesniewski (2010) and by Grant and Berry (2011). Specifically, we used a bootstrapping procedure to estimate the 95% bias corrected confidence interval surrounding our estimate of the indirect effects of conscientiousness through avoidance coping. The confidence interval was based on 1,000 bootstrap samples. Our results estimated the indirect effect to be .12 (95% CI = .01, .37), suggesting that the indirect effects were greater than zero. Overall, these results support Hypothesis 4b. We used the information from Table 4 to compute estimates of the direct, indirect, and total effects of our full model. These estimates are shown in Table 5.\n",
      "Discussion\n",
      "In the current article, we examined the moderating effects of conscientiousness and coping strategies on the relationship between abusive supervision and job performance. We found that conscientiousness moderated the relationship between abusive supervision and job performance, such that abusive supervision had a negative association with job performance only for those individuals low in conscientiousness. We also found that while avoidance coping interacted with abusive supervision to predict performance, active coping did not. Finally, our results also indicated that the moderating effects of conscientiousness were fully mediated by avoidance coping. \n",
      "Theoretical Implications \n",
      "Previous research suggests that conscientiousness tempers individuals’ tendency to engage in behaviors harmful to the organization (Tepper et al., 2001). Our findings extend previous work by showing that conscientiousness also shelters employees from the detrimental performance effects associated with abusive supervision. Our studies inform the continuing debate surrounding the usefulness of conscientiousness in applied contexts (Morgeson et al., 2007; Ones, Dilchert, Viswesvaran, & Judge, 2007). While we acknowledge that the bivariate relationship between conscientiousness and job performance is somewhat low (Barrick & Mount, 1991), our findings add to a growing body of research suggesting that some of the benefits associated with conscientiousness may be realized through its interaction with other work variables. Specifically, individuals high in conscientiousness are more likely to choose constructive performance behaviors in response to a negative work environment (Colbert et al., 2004; Yang & Diefendorff, 2009) and stressful work events (Bowling & Eshchleman, 2010).\n",
      "Our results also have implications for research related to personality and coping strategies, showing that avoidance coping strategies moderated the relationship between abusive supervision and job performance. These results add to the literature demonstrating the limitations associated with relying on avoidance coping in the face of stressors at work. In Study 2, the use of avoidance coping strategies was associated with a stronger, negative relationship between abusive supervision and employee performance. Previous work has proposed that avoidance coping may be an effective coping strategy at times (Roth & Cohen, 1986; Skinner et al., 2003). Our results suggest that avoidance coping does not facilitate job performance under conditions of abusive supervision. If one considers that job performance usually is assessed over long periods of time (e.g., at six- or twelve-month intervals), our results align with meta-analytic work indicating that avoidance strategies can be effective over short periods of time but are less effective in the long term (Suls & Fletcher, 1985). More importantly, our findings suggest that avoidance coping fully mediates the moderating effects of conscientiousness on the relationship between abusive supervision and job performance, shedding light on how personality realizes its effects on work outcomes and confirming the notion that coping strategies may be an important psychological construct through which personality traits are expressed (Bolger, 1990; Bolger & Zuckerman, 1995). \n",
      "Contrary to our expectations, we found that active coping did not interact with abusive supervision to predict employee performance. We offer two possible explanations for these findings. First, active coping can consist of several narrow coping strategies such as problem solving, direct confrontation with the source of the stress, and seeking social support (Skinner et al., 2003). One active coping strategy—especially in the context of interpersonal conflict—is to confront the individual involved in the conflict. However, in the context of abusive supervision, confrontation can be a counterproductive strategy because it may result in escalation of the conflict (Dewe, O’Driscoll, & Cooper, 2010) or may have negative implications for future career progression. In contrast, other active coping strategies such as focusing on job responsibilities, managing one’s emotional reactions, or seeking out social support may be more effective in reducing the negative effects of abusive supervision on work performance. The broad measure of active coping that we used may belie any divergent effects associated with narrower facets of active coping. Second, and as suggested by an anonymous reviewer, active coping may not be always adaptive in the face of abusive supervision—particularly because it represents a hindrance stressor (as opposed to a challenge stressor) that cannot be altered through external intervention. Coupled with previous research (Pearsall, Ellis, & Stein, 2009), our results also indicate that avoidance coping is not an effective technique for dealing with hindrance stressors.\n",
      "Our research has implications for theories of abusive leadership. As Tepper (2007) noted, the abusive supervision literature is tied together only by loose theoretical traditions and tends to be more empirically driven than theory driven. Our research takes a step toward identifying a theoretical foundation from which abusive supervision research can take place. The conceptualization of abusive supervision as a workplace stressor may help provide a basis for unifying the broader literature related to workplace victimization. Research in this area has used the terms tyranny, supervisor undermining, bullying, incivility, and harassment to describe constructs that are comparable to abusive supervision (Aquino & Thau, 2009; Tepper, 2007). The similarities between these constructs—in terms of their theoretical definitions and their empirical relationships with other constructs—raise an important question: Are these, in fact, distinct constructs, or has construct proliferation crept into this literature (Aquino & Thau, 2009)? It may be the case that each of these constructs is an indicator of a single, higher-order construct that captures the general nature of dysfunctional supervisory behaviors.\n",
      "Practical Implications\n",
      "To the extent that abusive supervision is present in the workplace, it is incumbent on organizations to minimize its detrimental effects on employee outcomes. Our results indicate that abusive supervision may be rendered less impactful by a continued focus on hiring conscientious individuals, adding to an extensive body of literature that supports the assessment of conscientiousness during the selection process. However, our results also suggest a broader role for organizations to play in this process. Managerial interventions that reduce individuals’ inclination to rely on avoidance coping strategies can be implemented as early as during the orientation process for new employees, when employees can be instructed that the behaviors associated with avoidance coping may have unintended negative effects on their performance (Fan & Wanous, 2008). Organizations could also create mechanisms that discourage employees from adopting avoidance behaviors. For example, human resource managers can take a more proactive role in detecting signs of employees’ use of avoidance coping, such as spikes in absences and emotional issues. Some organizations have institutionalized the role of an ethics officer, giving employees a specific individual with whom they can voice concerns about their work experiences (Lloyd & Mey, 2010). Intervention strategies that focus on building employees' self-efficacy (Levin, Ilgen, & Moos, 2007) and increasing the social support provided to victims of abusive supervision (Polman, Borkoles, & Nicholls, 2010) may also reduce the negative impact of avoidance coping. \n",
      "We found that active coping did not interact with abusive supervision to predict performance. These findings cohere with past research that suggests no single coping strategy is inherently superior to another (Stahl & Caligiuri, 2005) and that an exclusive reliance on active coping does not always generate desirable outcomes. Indeed, as mentioned previously, past research has suggested that trying too hard to counteract uncontrollable adversities may be counterproductive (Terry & Hynes, 1998). Thus, while interventions that focus on active coping strategies sometimes can be useful (Czabala, Charzyńska, & Mroziak, 2011), enthusiasm surrounding such interventions should be tempered given that the effectiveness of these strategies may be constrained in certain contexts.\n",
      "Limitations and Future Research\n",
      "Our paper is not without limitations. First, both of our studies rely on cross-sectional data. This research design prevents us from drawing causal inferences from our data. Second, measures of abusive supervision do not always capture actual supervisor behaviors. Instead, they capture subordinate perceptions of behaviors (Mitchell & Ambrose, 2007). Said another way, it is possible that individuals may perceive abusive supervision where none actually exists. One way that this limitation can be overcome in future studies is for researchers to collect perceptions of abusive supervision from multiple sources, such as subordinates, subordinates’ coworkers, and supervisors’ peers (Tepper, Duffy, Henle, & Lambert, 2006). Third, we note that the sample size in Study 2 was relatively small and was drawn from a homogenous set of employees, which limits the generalizability of our findings.\n",
      "Fourth, we used a conceptualization of coping that categorized coping strategies as either active or avoidance. Although we believe that the categorization scheme we used was appropriate given our research questions, other categorization schemes are available. For example, coping strategies can be classified as social (involving other people in addressing the source of the stress) or solitary (doing it alone), either accommodative (with the intent of adapting to the stressor) or meaning-focused (with the intent of redefining the stressor as beneficial in some way). In addition, taxonomies of coping strategies may include more than two dimensions. As Carver and Connor-Smith write, “each distinction…is useful for answering different questions about responses to stress. Furthermore, no one distinction fully represents the structure of coping” (2010, p. 687). Given that there is no definitive framework available for categorizing coping strategies, another direction for future research would be to examine other conceptualizations of coping in the context of abusive supervision and work outcomes. For example, the active and avoidance coping scales that we used each combined elements of problem-focused and emotion-focused coping. An anonymous reviewer noted that future research may benefit from making a stronger delineation between problem- and emotion-focused coping and from measuring emotion-focused coping more explicitly. \n",
      "Finally, the measure of coping that we used was not specific to the context of abusive supervision. Instead, we used a measure of coping designed for measuring employee responses to general workplace stressors. A recent meta-analysis discusses the issue of measurement context as it relates to the use of personality measures in a selection context (Shaffer & Postlethwaite, 2012). The authors argue that work-specific personality measures are better predictors of job performance than are general personality measures because work-specific personality measures give respondents a frame of reference for their responses, which increases their subsequent validity. We can see the same principle applying to our study. That is, without being provided with a frame of reference that was specific to abusive supervision, respondents may have interpreted each coping item using a different source of stress as their reference point. If this was indeed the case, then the use of a measure tailored for an abusive supervision context—such as that developed by Yagil, Ben-Zur, and Tamir (2011) may have strengthened our paper. Future researchers in this area may consider developing a coping measure that makes specific reference to how employees react to abusive supervision.\n",
      "\n",
      "References\n",
      "Aiken, L. S., & West, S. G. (1991). Multiple regression: Testing and interpreting interactions. Thousand Oaks, CA US: Sage Publications, Inc.\n",
      "Aquino, K., & Thau, S. (2009). Workplace victimization: Aggression for the target’s perspective. Annual Review of Psychology, 60, 717-41.\n",
      "Aryee, S., Chen, Z., Sun, L., & Debrah, Y. A. (2007). Antecedents and outcomes of abusive supervision: Test of a trickle-down model. Journal of Applied Psychology, 92, 191-201.\n",
      "Bamberger, P. A., & Bacharach, S. B. (2006). Abusive supervision and subordinate problem drinking: Taking resistance, stress, and subordinate personality into account. Human Relations, 59, 723-752.\n",
      "Barrick. M. R., & Mount, M. K. (1991). The Big Five personality dimensions and job performance: A meta-analysis. Personnel Psychology, 44, 1-26.\n",
      "Bolger, N. (1990). Coping as a personality process: A prospective study. Journal of Personality and Social Psychology, 59, 525-537.\n",
      "Bolger, N., & Zuckerman, A. (1995). A framework for studying personality in the stress process. Journal of Personality and Social Psychology, 69, 890-902.\n",
      "Bonanno, G. A. (2004). Loss, trauma, and human resilience. American Psychologist, 59, 20-28.\n",
      "Bowling, N. A., & Beehr, T. A. (2006). Workplace harassment from the victim’s perspective: A theoretical model and meta-analysis. Journal of Applied Psychology, 91, 998-1012.\n",
      "Bowling, N. A., & Eschleman, K. J. (2010). Employee personality as a moderator of the relationships between work stressors and counterproductive behavior. Journal of Occupational Health Psychology, 15, 91-103.\n",
      "Campbell, J. P. (1990). Modeling the performance prediction problem in industrial and organizational psychology. In M. D. Dunnette & L. Hough (Eds.), Handbook of industrial and organizational psychology (pp. 687–732). Palo Alto, CA: Consulting Psychologists Press.\n",
      "Carver, C. S., & Connor-Smith, J. (2010). Personality and coping. Annual Review of Psychology, 61, 679-704.\n",
      "Carver, C. S., & Scheier, M. F. (1982). Control theory: A useful conceptual framework for personality–social, clinical, and health psychology. Psychological Bulletin, 92, 111-135.\n",
      "Chan, D. W. (1998). Stress, coping strategies, and psychological distress among secondary school teachers in Hong Kong. American Education Research Journal, 35, 145-163.\n",
      "Colbert, A. E., Mount, M. K., Harter, J. K., Witt, L. A., & Barrick, M. R. (2004). Interactive effects of personality and perceptions of work situation on workplace deviance. Journal of Applied Psychology, 89, 599–609.\n",
      "Connor-Smith, J. K., & Flachsbart, C. (2007). Relations between personality and coping: A meta-analysis. Journal of Personality and Social Psychology, 93, 1080-1107.\n",
      "Cullen, M. J., & Sackett, P. R. (2003). Personality and counterproductive workplace behavior. In M. R. Barrick, & A. M. Ryan (Eds.), Personality and work (pp. 150-182). San Francisco: Jossey-Bass.\n",
      "Czabala, C., Charzyńska, K., & Mroziak, B. (2011). Psychosocial interventions in workplace mental health promotion: An overview. Health Promotion International, 26, i70-i84. \n",
      "Dewe, P. J., O’Driscoll, M. P., & Cooper, C. L. (2010). Coping with work stress: A review and critique. Oxford: Wiley-Blackwell. \n",
      "Dijkstra, M. T. M., De Dreu, C. K., Evers, A., & van Dierendonck, D. (2009). Passive responses to interpersonal conflict at work amplify employee strain. European Journal of Work and Organizational Psychology, 18, 405-423.\n",
      "Fan, J., & Wanous, J. P. (2008). Organizational and cultural entry: A new type of orientation program for multiple boundary crossings. Journal of Applied Psychology, 93, 1390-1400. \n",
      "Gilboa, S., Shirom, A., Fried, Y., & Cooper, C. (2008). A meta-analysis or work demand stressors and job performance: Examining main and moderating effects. Personnel Psychology, 61, 227-271.\n",
      "Goldberg, L. R. (1992). The development of markers for the Big-Factor factor structure. Psychological Assessment, 4, 26-42.\n",
      "Gorman, C. A., Meriac, J. P., Overstreet, B. L., Apodaca, S., McIntyre, A. L., Park, P., & Godbey, J. N. (2011). A meta-analysis of the regulatory focus nomological network: Work-related antecedents and consequences.  Journal of Vocational Behavior, 80, 160-172.\n",
      "Grant, A. M., & Berry, J. W. (2011). The necessity of others is the mother of invention: Intrinsic and prosocial motivations, perspective taking, and creativity. Academy of Management Journal, 54, 73-96.\n",
      "Grant, S., & Langan-Fox, J. (2007). Personality and the occupational stressor-strain relationship: The role of the Big Five. Journal of Occupational and Health Psychology, 12, 20-33.\n",
      "Grant, A. M., & Wrzesniewski, A. (2010). I won’t let you down… or will I? Core self-evaluations, other-orientation, anticipated guilt and gratitude, and job performance. Journal of Applied Psychology, 95, 108-121. \n",
      "Harris, K. J., Kacmar, K. M., & Zivnuska, S. (2007). An investigation of abusive supervision as a predictor of performance and the meaning of work as a moderator of the relationship. The Leadership Quarterly, 18, 252-263.\n",
      "Hobfoll, S. E. (1989). Conservation of Resources: A new attempt at conceptualizing stress. American Psychologist, 44, 513-524.\n",
      "Hoobler, J. M., & Brass, D. J. (2006). Abusive supervision and family undermining as displaced aggression. Journal of Applied Psychology, 91, 1125-1133.\n",
      "Hurtz, G. M., & Donovan, J. J. (2000). Personality and job performance: The Big Five revisited. Journal of Applied Psychology, 85, 869-879.\n",
      "Jordan, P. J., Ashkanasy, N. M., & Hartel, C. E. (2002). Emotional intelligence as a moderator of emotional and behavioral reactions to job insecurity. Academy of Management Review, 27, 361-372.\n",
      "Koeske, G. F., Kirk, S. A., & Koeske, R. D. (1993). Coping with job stress: Which strategies work best? Journal of Occupational and Organizational Psychology, 66, 319-335.\n",
      "Korotkov, D. (2008). Does personality moderate the relationship between stress and health behavior? Expanding the nomological network of the five-factor model. Journal of Research in Personality, 42, 1418-1426.\n",
      "Lazarus, R.S., & Folkman, S. (1984). Stress, appraisal, and coping. New York: Springer.\n",
      "Lazarus, R.S., & Folkman, S. (1987). Transactional theory and research on emotions and coping. European Journal of Personality, 1, 141-169.\n",
      "Lee-Baggley, D., Preece, M., & DeLongis, A. (2005). Coping with interpersonal stress: Role of Big Five traits. Journal of Personality, 73, 1141-1180.\n",
      "LePine, J. A., Podsakoff, N. P., & LePine, M. A. (2005). A meta-analytic test of the challenge stressor-hindrance stressor framework: An explanation for inconsistent relationships among stressors and performance. Academy of Management Journal, 48, 764-775.\n",
      "Levin, C., Ilgen, M., & Moos, R. (2007). Avoidance coping strategies moderate the relationship between self-efficacy and 5-year alcohol treatment outcomes. Psychology of Addictive Behaviors, 21, 108-113.\n",
      "Long, B. C. (1990). Relation between coping strategies, sex-typed traits, and environmental characteristics: A comparison of male and female managers. Journal of Counseling Psychology, 37, 185-194.\n",
      "Lloyd, H. R., & Mey, M. R. (2010). An ethics model to develop an ethical organization. SA Journal of Human Resource Management/SA Tydskrif vir Menslikehulpbronbestuur, 8(1), Art. #218, 12 pages. DOI: 10.4102/sajhrm.v8i1.218 \n",
      "McCrae, R. R., & Costa, P. T. (1987). Validation of the five-factor model of personality across instruments and observers. Journal of Personality and Social Psychology, 87, 81-90.\n",
      "McCrae, R. R., & Costa, P. T. (1996). Toward a new generation of personality theories: Theoretical contexts for the Five-Factor Model. In J. S. Wiggins (Ed.), The Five-Factor Model of personality: Theoretical perspectives (pp. 51–87). New York: Guilford Press.\n",
      "Mitchell, M. S., & Ambrose, M. L. (2007). Abusive supervision and workplace deviance and the moderating effects of negative reciprocity beliefs. Journal of Applied Psychology, 92, 1159-1168\n",
      "Morgeson, F. P., Campion, M. A., Dipboye, R. L., Hollenbeck, J. R., Murphy, K., & Schmitt, N. (2007). Reconsidering the use of personality tests in personnel selection contexts. Personnel Psychology, 60, 683-729.\n",
      "Motowidlo, S. J., Packard, J. S., & Manning, M. R. (1986). Occupational stress: Its causes and consequences for job performance. Journal of Applied Psychology, 71, 618-629.\n",
      "Muraven, M., & Baumeister, R. F. (2000). Self-regulation and depletion of limited resources: Does self-control resemble a muscle? Psychological Bulletin, 126, 247-259.\n",
      "Ones, D., Dilchert, S., Viswesvaran, C., & Judge, T. A. (2007). In support of personality assessments in organizational settings. Personnel Psychology, 60, 995-1027.\n",
      "Ortega, A., Brenner, S., & Leather, P. (2007). Occupational stress, coping and personality in the police: An SEM study. International Journal of Police Science & Management, 9, 36-50.\n",
      "Pearsall, M. J., Ellis, A. P. J., & Stein, J. H. (2009). Coping with challenge and hindrance stressors in teams: Behavioral, cognitive, and affective outcomes. Organizational Behavior and Human Decision Processes, 109, 18-28.\n",
      "Penley, J. A., & Tomaka, J. (2002). Associations among the Big Five, emotional responses, and coping with acute stress. Personality and Individual Differences, 32, 1215-1228.\n",
      "Polman, R., Borkoles, E., & Nicholls, A. R. (2010). Type D personality, stress, and symptoms of burnout: The influence of avoidance coping and social support. British Journal of Health Psychology, 15, 681-696.\n",
      "Raja, U., Johns, G., & Ntalianis, F. (2004). The impact of personality on psychological contracts. Academy of Management Journal, 47, 350–367.\n",
      "Roth, S., & Cohen, L. J. (1986). Approach, avoidance, and coping with stress. American Psychologist, 41, 813-819.\n",
      "Shaffer, J. A., & Postlethwaite, B. E. (2012). A matter of context: A meta‐analytic investigation of the relative validity of contextualized and noncontextualized personality measures. Personnel Psychology, 65, 445-493. \n",
      "Skinner, E. A., Edge, K., Altman, J., & Sherwood, H. (2003). Searching for the structure of coping: A review and critique of category systems for classifying ways of coping. Psychological Bulletin, 129, 216-269.\n",
      "Stahl, G. K., & Caligiuri, P. (2005). The effectiveness of expatriate coping strategies: The moderating role of cultural distance, position level, and time on the international assignment. Journal of Applied Psychology, 90, 603-615. \n",
      "Stewart, G. L., & Nandkeolyar, A. K. (2007). Exploring how constraints created by other people influence intraindividual variation in objective performance measures. Journal of Applied Psychology, 92, 1149-1158. \n",
      "Suls, J., & Fletcher, B. (1985). The relative efficacy of avoidant and nonavoidant coping strategies: A meta-analysis. Health Psychology, 4, 249-288.\n",
      "Tepper, B. J. (2000). Consequences of abusive supervision. Academy of Management Journal, 43, 178-190.\n",
      "Tepper, B. J. (2007). Abusive supervision in work organizations: Review, synthesis, and research agenda. Journal of Management, 33, 261-289.\n",
      "Tepper, B. J., Carr, J. C., Breaux, D. M., Geider, S., Hu, C., & Hua, W. (2009). Abusive supervision, intentions to quit, and employees’ workplace deviance: A power/dependence analysis. Organizational Behavior and Human Decision Processes, 109, 156-167.\n",
      "Tepper, B. J., Duffy, M. K., & Shaw, J. D. (2001). Personality moderator of the relationship between abusive supervision and subordinates’ resistance. Journal of Applied Psychology, 86, 974-983.\n",
      "Tepper, B. J., Duffy, M. K., Henle, C. A., & Lambert, L. S. (2006). Procedural injustice, victim precipitation, and abusive supervision. Personnel Psychology, 59, 101-123.\n",
      "Tepper, B. J., Duffy, M. K., Hoobler, J., & Ensley, M. D. (2004). Moderators of the relationship between coworkers’ organizational citizenship behavior and fellow employees’ attitudes. Journal of Applied Psychology, 89, 455-465.\n",
      "Tepper, B. J., Henle, C. A., Lambert, L. S., Giacalone, R. A., & Duffy, M. K. (2008). Abusive supervision and subordinates’ organization deviance. Journal of Applied Psychology, 93, 721-732.\n",
      "Terry, D. J., & Hynes, G. J. (1998). Adjustment to a low-control situation: Reexamining the role of coping responses. Journal of Personality and Social Psychology, 74, 1078-1092. \n",
      "Thau, S., & Mitchell, M. S. (2010). Self-gain of self-regulation impairment? Tests of competing explanations of the supervisor abuse and employee deviance relationship through perceptions of distributive justice. Journal of Applied Psychology, 95, 1009-1031.\n",
      "Thau, S., Bennett, R., Mitchell, M. S., & Marrs, M. B. (2009). How management style moderates the relationship between abusive supervision and workplace deviance: An uncertainty management theory perspective. Organizational Behavior and Human Decision Processes, 108, 79-92.\n",
      "Wampold, B. E. (2007). Psychotherapy: The humanistic (and effective) treatment. American Psychologist, 62, 857-873.\n",
      "Watson, D., & Hubbard, B. (1996). Adaptational style and dispositional structure: Coping in the context of the Five-Factor Model. Journal of Personality, 64, 737-774.\n",
      "Welbourne, T. M., Johnson, D. E., & Erez, A. (1998).  The role-based performance scale: Validity analysis of a theory-based measure. Academy of Management Journal, 41, 540-555. \n",
      "Wenzlaff, R. M., & Wegner, D. M. (2000). Thought suppression. Annual Review of Psychology, 51, 59-91.\n",
      "Yagil, D., Ben-Zur, H., & Tamir, I. (2011). Do employees cope effectively with abusive supervision at work? An exploratory study. International Journal of Stress Management, 18, 5-23.\n",
      "Yang, J., & Diefendorff, J. M. (2009). The relations of daily counterproductive workplace behavior with emotions, situational antecedents, and personality moderators: A diary study in Hong Kong. Personnel Psychology, 62, 259-295.\n",
      "\n",
      "\n",
      "Author’s note\n",
      "The first two authors contributed equally to this research and are listed in alphabetical order. We thank Amy Colbert, Stefan Thau, and Ruchi Sinha for their helpful feedback on an earlier version of our manuscript. \n",
      "Amit Nandkeolyar and Srinivas Ekkirala would like to acknowledge the financial support provided in part by the Centre of Leadership, Innovation, and Change (CLIC) at the Indian School of Business.\n",
      "Srinivas Ekkirala was at the Indian School of Business when most of this research was completed.  \n",
      "\n",
      "\n",
      "Note. n = 363. Coefficient alphas are shown on diagonal in parentheses. For gender 0 = female, 1 = male.\n",
      "† < .10    * p < .05     ** p < .01\n",
      "\n",
      "\n",
      "\n",
      "\n",
      "\n",
      "Note. n = 363. Value in bold is relevant to test of hypothesis.\n",
      "† < .10    * p < .05     ** p < .01\n",
      "\n",
      "\n",
      "Note. n = 105. Coefficient alphas are shown on the diagonal in parentheses. For gender 0 = female, 1 = male.\n",
      "† < .10    * p < .05     ** p < .01\n",
      "\n",
      "\n",
      "Note. n = 105. Values in bold are relevant to tests of hypotheses.\n",
      "† < .10    * p < .05     ** p < .01\n",
      "\n",
      "\n",
      "\n",
      "Note. DE refers to the direct effects of the interaction between abusive supervision and conscientiousness on job performance. IE1 and IE2 refer to the indirect effects of active and avoidance coping, respectively.  and  represent the paths from conscientiousness to active and avoidance coping, respectively.  and  represent the regression coefficients for the abusive supervision × active coping and abusive supervision × avoidance coping interactions, respectively.  represents the regression coefficient for the interaction between abusive supervision and conscientiousness.\n",
      "\n",
      "\n",
      "\n",
      "\n",
      "\n",
      "\n",
      "\n",
      "\n",
      "\n",
      "\n",
      "\n",
      "Figure 2. Interaction and regions of significance for the moderating effects of conscientiousness on the relationship between abusive supervision and job performance in Study 1. Region of significance values are based on standardized variables (95% CI).\n",
      "\n",
      "\n",
      "\n",
      "\n",
      "\n",
      "\n",
      "\n",
      "Figure 3. Interaction and regions of significance for the moderating effects of conscientiousness on the relationship between abusive supervision and job performance in Study 2. Region of significance values are based on standardized variables (95% CI).\n",
      "\n",
      "\n",
      "\n",
      "\n",
      "Figure 4. Interaction and regions of significance for the moderating effects of avoidance coping on the relationship between abusive supervision and job performance in Study 2. Region of significance values are based on standardized variables (95% CI).\n",
      "\n",
      "\n"
     ]
    }
   ],
   "source": [
    "import docx\n",
    "def readtxt(filename):\n",
    "    \"\"\"the function reads the word file from a specified path\n",
    "    filename - the parameter passes the file's complete path\"\"\"\n",
    "    doc = docx.Document(filename)\n",
    "    fullText = []\n",
    "    for para in doc.paragraphs:\n",
    "        fullText.append(para.text)\n",
    "    return '\\n'.join(fullText)\n",
    "\n",
    "print (readtxt('C://Users//saura//OneDrive//desktop//Coping//JAPAcceptedVersiononline2015.docx'))"
   ]
  },
  {
   "cell_type": "code",
   "execution_count": 14,
   "id": "98e3aeeb",
   "metadata": {},
   "outputs": [
    {
     "name": "stdout",
     "output_type": "stream",
     "text": [
      "Requirement already satisfied: PyPDF2 in c:\\users\\saura\\anaconda3\\lib\\site-packages (1.26.0)\n",
      "Note: you may need to restart the kernel to use updated packages.\n"
     ]
    }
   ],
   "source": [
    "pip install PyPDF2"
   ]
  },
  {
   "cell_type": "markdown",
   "id": "90a8bd0b",
   "metadata": {},
   "source": [
    "# write a function by whihc you will be able to append two PDF files. "
   ]
  },
  {
   "cell_type": "code",
   "execution_count": 12,
   "id": "bb3e949b",
   "metadata": {},
   "outputs": [],
   "source": [
    "from PyPDF2 import PdfFileMerger\n",
    "import os\n",
    "def pdfMerger(path,file1,file2,file3):\n",
    "    \"\"\"the function merges two pdf files lying in a particular directory to form a new pdf file\n",
    "    path - the parameter passes the path of the directory where the files are to be found\n",
    "    file1 - the parameter passes the first pdf file's name with the extension\n",
    "    file2 - the parameter passes the second pdf file's name that has to be merged or appended with the first\n",
    "    file3 - the resultant file arfter the merger\"\"\"\n",
    "    files = [file1,file2]\n",
    "    merger = PdfFileMerger(strict=False)\n",
    "    for f in files:\n",
    "        merger.append(path+f)\n",
    "    if not os.path.exists(path):\n",
    "            merger.write(path+file3)\n",
    "    merger.close()"
   ]
  },
  {
   "cell_type": "code",
   "execution_count": 2,
   "id": "2c6ce0bd",
   "metadata": {},
   "outputs": [],
   "source": [
    "pdfMerger('C://Users//saura//OneDrive//desktop//coping//','Bolino-2010.pdf','bolino-2015.pdf','test.pdf')"
   ]
  },
  {
   "cell_type": "markdown",
   "id": "85342afa",
   "metadata": {},
   "source": [
    "# write a function which can help you to filter only word file from a directory "
   ]
  },
  {
   "cell_type": "code",
   "execution_count": 16,
   "id": "e445deb2",
   "metadata": {},
   "outputs": [],
   "source": [
    "import os, fnmatch\n",
    "#path to use\n",
    "def docInDir(path,file_ext):\n",
    "    \"\"\" The function filters the files according to their specific type from a specified directory\n",
    "        parameters:\n",
    "        path - path of the directory e.g. 'C://Users/Programs//'\n",
    "        file_ext - type of files to filter e.g. '*.docx'\"\"\"\n",
    "    #filter for all the python files\n",
    "    files = fnmatch.filter(os.listdir(path), file_ext)\n",
    "\n",
    "    #display the python files\n",
    "    print(files)"
   ]
  },
  {
   "cell_type": "code",
   "execution_count": 9,
   "id": "e307a061",
   "metadata": {},
   "outputs": [
    {
     "name": "stdout",
     "output_type": "stream",
     "text": [
      "['Art190.pdf', 'ben-zur2017.pdf', 'billings1981.pdf', 'Bolino-2010.pdf', 'bolino-2015.pdf', 'chang2012.pdf', 'herman2009.pdf', 'hill2016.pdf', 'muw058.pdf', 'skinner2003.pdf', 'strutton1994.pdf']\n"
     ]
    }
   ],
   "source": [
    "docInDir('C://Users//saura//OneDrive//desktop//coping//', '*pdf')"
   ]
  },
  {
   "cell_type": "markdown",
   "id": "fbfae899",
   "metadata": {},
   "source": [
    "# write a func to read a complete PDf file ."
   ]
  },
  {
   "cell_type": "code",
   "execution_count": 1,
   "id": "d189803f",
   "metadata": {},
   "outputs": [],
   "source": [
    "import PyPDF2\n",
    "def readPdf(path):\n",
    "    \"\"\"The functions reades the text from a pdf file from a specified folder\n",
    "        path - the path of the file to be read e.g.'C://Users//Programs//coping//chang2012.pdf'\"\"\"\n",
    "    # creating a pdf file object\n",
    "    pdfFileObject = open(path, 'rb')\n",
    "    # creating a pdf reader object\n",
    "    pdfReader = PyPDF2.PdfFileReader(pdfFileObject, strict=False)\n",
    "    #Extract each page and concatenate the text of each page.\n",
    "    text=''\n",
    "    for i in range(0,pdfReader.numPages):\n",
    "        # creating a page object\n",
    "        pageObj = pdfReader.getPage(i)\n",
    "        # extracting text from page\n",
    "        text=text+pageObj.extractText()\n",
    "    print(text)"
   ]
  }
 ],
 "metadata": {
  "kernelspec": {
   "display_name": "Python 3",
   "language": "python",
   "name": "python3"
  },
  "language_info": {
   "codemirror_mode": {
    "name": "ipython",
    "version": 3
   },
   "file_extension": ".py",
   "mimetype": "text/x-python",
   "name": "python",
   "nbconvert_exporter": "python",
   "pygments_lexer": "ipython3",
   "version": "3.8.8"
  }
 },
 "nbformat": 4,
 "nbformat_minor": 5
}
